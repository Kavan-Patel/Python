{
  "cells": [
    {
      "cell_type": "markdown",
      "metadata": {
        "colab_type": "text",
        "id": "view-in-github"
      },
      "source": [
        "<a href=\"https://colab.research.google.com/github/Kavan-Patel/PythonColab/blob/main/DogeCalculator.ipynb\" target=\"_parent\"><img src=\"https://colab.research.google.com/assets/colab-badge.svg\" alt=\"Open In Colab\"/></a>"
      ]
    },
    {
      "cell_type": "markdown",
      "metadata": {
        "id": "_gT3oRylJZmE"
      },
      "source": [
        "# Doge Calculator \n",
        "### It is used to predict if you buy more doge coin with different price then what will be your new avg "
      ]
    },
    {
      "cell_type": "code",
      "execution_count": 1,
      "metadata": {
        "colab": {
          "base_uri": "https://localhost:8080/"
        },
        "id": "TLXy1fd5JWSb",
        "outputId": "e8974d62-83fe-4a8c-feaa-6be1e6c4529e"
      },
      "outputs": [],
      "source": [
        "iQuntitiy=input(\"Enter the initial quntity of doge you have:\")\n",
        "iAvg=input(\"Enter your initial Avg shown:\")\n",
        "iPrice=float(iQuntitiy)*float(iAvg)"
      ]
    },
    {
      "cell_type": "code",
      "execution_count": 3,
      "metadata": {
        "colab": {
          "base_uri": "https://localhost:8080/"
        },
        "id": "4tIMfPVDKzIK",
        "outputId": "c6f5118e-b8f3-4768-8bab-c95c6fd48108"
      },
      "outputs": [],
      "source": [
        "nPrice=input(\"Enter the total money which you want to buy doge:\")\n",
        "nAvg=input(\"Enter the price with which you will buy doge:\")\n",
        "nQuntity=float(nPrice)/float(nAvg)"
      ]
    },
    {
      "cell_type": "code",
      "execution_count": 20,
      "metadata": {
        "colab": {
          "base_uri": "https://localhost:8080/"
        },
        "id": "VWvETjxELZXt",
        "outputId": "b5236c27-d48d-4be2-812b-53c02702c587"
      },
      "outputs": [
        {
          "name": "stdout",
          "output_type": "stream",
          "text": [
            "Your new Avg will be :  0.28675342589444414\n"
          ]
        }
      ],
      "source": [
        "tQuntity=float(iQuntitiy)+nQuntity\n",
        "tPrice=iPrice+float(nPrice)\n",
        "tAvg=tPrice/tQuntity\n",
        "print(\"Your new Avg will be : \",tAvg)"
      ]
    },
    {
      "cell_type": "code",
      "execution_count": null,
      "metadata": {
        "id": "Dim-Dy4sMnNQ"
      },
      "outputs": [],
      "source": []
    }
  ],
  "metadata": {
    "colab": {
      "authorship_tag": "ABX9TyMTBOm2LS+SLh7QOjE+BSl+",
      "include_colab_link": true,
      "name": "DogeCalculator.ipynb",
      "provenance": []
    },
    "kernelspec": {
      "display_name": "Python 3.10.0 64-bit",
      "language": "python",
      "name": "python3"
    },
    "language_info": {
      "codemirror_mode": {
        "name": "ipython",
        "version": 3
      },
      "file_extension": ".py",
      "mimetype": "text/x-python",
      "name": "python",
      "nbconvert_exporter": "python",
      "pygments_lexer": "ipython3",
      "version": "3.10.0"
    },
    "vscode": {
      "interpreter": {
        "hash": "aee8b7b246df8f9039afb4144a1f6fd8d2ca17a180786b69acc140d282b71a49"
      }
    }
  },
  "nbformat": 4,
  "nbformat_minor": 0
}
