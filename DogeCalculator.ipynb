{
  "nbformat": 4,
  "nbformat_minor": 0,
  "metadata": {
    "colab": {
      "name": "DogeCalculator.ipynb",
      "provenance": [],
      "authorship_tag": "ABX9TyMTBOm2LS+SLh7QOjE+BSl+",
      "include_colab_link": true
    },
    "kernelspec": {
      "name": "python3",
      "display_name": "Python 3"
    },
    "language_info": {
      "name": "python"
    }
  },
  "cells": [
    {
      "cell_type": "markdown",
      "metadata": {
        "id": "view-in-github",
        "colab_type": "text"
      },
      "source": [
        "<a href=\"https://colab.research.google.com/github/Kavan-Patel/PythonColab/blob/main/DogeCalculator.ipynb\" target=\"_parent\"><img src=\"https://colab.research.google.com/assets/colab-badge.svg\" alt=\"Open In Colab\"/></a>"
      ]
    },
    {
      "cell_type": "markdown",
      "metadata": {
        "id": "_gT3oRylJZmE"
      },
      "source": [
        "# Doge Calculator \n",
        "### It is used to predict if you buy more doge coin with different price then what will be your new avg "
      ]
    },
    {
      "cell_type": "code",
      "metadata": {
        "colab": {
          "base_uri": "https://localhost:8080/"
        },
        "id": "TLXy1fd5JWSb",
        "outputId": "e8974d62-83fe-4a8c-feaa-6be1e6c4529e"
      },
      "source": [
        "iQuntitiy=input(\"Enter the initial quntity of doge you have:\")\n",
        "iAvg=input(\"Enter your initial Avg shown:\")\n",
        "iPrice=float(iQuntitiy)*float(iAvg)"
      ],
      "execution_count": 7,
      "outputs": [
        {
          "name": "stdout",
          "output_type": "stream",
          "text": [
            "Enter the initial quntity of doge you have:4686.18\n",
            "Enter your initial Avg shown:0.388\n"
          ]
        }
      ]
    },
    {
      "cell_type": "code",
      "metadata": {
        "colab": {
          "base_uri": "https://localhost:8080/"
        },
        "id": "4tIMfPVDKzIK",
        "outputId": "c6f5118e-b8f3-4768-8bab-c95c6fd48108"
      },
      "source": [
        "nPrice=input(\"Enter the total money which you want to buy doge:\")\n",
        "nAvg=input(\"Enter the price with which you will buy doge:\")\n",
        "nQuntity=float(nPrice)/float(nAvg)"
      ],
      "execution_count": 19,
      "outputs": [
        {
          "name": "stdout",
          "output_type": "stream",
          "text": [
            "Enter the total money which you want to buy doge:800\n",
            "Enter the price with which you will buy doge:0.18\n"
          ]
        }
      ]
    },
    {
      "cell_type": "code",
      "metadata": {
        "colab": {
          "base_uri": "https://localhost:8080/"
        },
        "id": "VWvETjxELZXt",
        "outputId": "b5236c27-d48d-4be2-812b-53c02702c587"
      },
      "source": [
        "tQuntity=float(iQuntitiy)+nQuntity\n",
        "tPrice=iPrice+float(nPrice)\n",
        "tAvg=tPrice/tQuntity\n",
        "print(\"Your new Avg will be : \",tAvg)"
      ],
      "execution_count": 20,
      "outputs": [
        {
          "output_type": "stream",
          "name": "stdout",
          "text": [
            "Your new Avg will be :  0.28675342589444414\n"
          ]
        }
      ]
    },
    {
      "cell_type": "code",
      "metadata": {
        "id": "Dim-Dy4sMnNQ"
      },
      "source": [
        ""
      ],
      "execution_count": null,
      "outputs": []
    }
  ]
}